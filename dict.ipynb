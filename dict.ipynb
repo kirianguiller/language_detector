{
 "cells": [
  {
   "cell_type": "code",
   "execution_count": 16,
   "metadata": {},
   "outputs": [],
   "source": [
    "from ngram import Ngram, binary_search\n",
    "import time"
   ]
  },
  {
   "cell_type": "code",
   "execution_count": 3,
   "metadata": {},
   "outputs": [],
   "source": [
    "ngram = Ngram()"
   ]
  },
  {
   "cell_type": "code",
   "execution_count": 5,
   "metadata": {},
   "outputs": [],
   "source": [
    "l = ngram.list_sorted_ngram"
   ]
  },
  {
   "cell_type": "code",
   "execution_count": 56,
   "metadata": {},
   "outputs": [
    {
     "name": "stdout",
     "output_type": "stream",
     "text": [
      "0.020904541015625\n"
     ]
    }
   ],
   "source": [
    "ti = time.time()\n",
    "for elt in l:\n",
    "    binary_search(l, elt)\n",
    "\n",
    "t1 = time.time() - ti\n",
    "print(t1)"
   ]
  },
  {
   "cell_type": "code",
   "execution_count": 13,
   "metadata": {},
   "outputs": [],
   "source": [
    "d = dict()\n",
    "for n, elt in enumerate(l):\n",
    "    d[elt] = n"
   ]
  },
  {
   "cell_type": "code",
   "execution_count": 49,
   "metadata": {},
   "outputs": [
    {
     "name": "stdout",
     "output_type": "stream",
     "text": [
      "0.0011212825775146484\n"
     ]
    }
   ],
   "source": [
    "ti = time.time()\n",
    "for elt in l:\n",
    "    \n",
    "    d[elt]\n",
    "t2 = time.time() - ti\n",
    "print(t2)"
   ]
  },
  {
   "cell_type": "code",
   "execution_count": 57,
   "metadata": {},
   "outputs": [
    {
     "name": "stdout",
     "output_type": "stream",
     "text": [
      "0.0001289844512939453\n"
     ]
    }
   ],
   "source": [
    "ti = time.time()\n",
    "binary_search(l, 'blab')\n",
    "\n",
    "t1 = time.time() - ti\n",
    "print(t1)"
   ]
  },
  {
   "cell_type": "code",
   "execution_count": 67,
   "metadata": {},
   "outputs": [
    {
     "name": "stdout",
     "output_type": "stream",
     "text": [
      "7.939338684082031e-05\n"
     ]
    }
   ],
   "source": [
    "ti = time.time()\n",
    "    \n",
    "d.get('blab')\n",
    "t2 = time.time() - ti\n",
    "print(t2)"
   ]
  },
  {
   "cell_type": "code",
   "execution_count": null,
   "metadata": {},
   "outputs": [],
   "source": []
  }
 ],
 "metadata": {
  "kernelspec": {
   "display_name": "Python 3",
   "language": "python",
   "name": "python3"
  },
  "language_info": {
   "codemirror_mode": {
    "name": "ipython",
    "version": 3
   },
   "file_extension": ".py",
   "mimetype": "text/x-python",
   "name": "python",
   "nbconvert_exporter": "python",
   "pygments_lexer": "ipython3",
   "version": "3.7.5rc1"
  }
 },
 "nbformat": 4,
 "nbformat_minor": 2
}
