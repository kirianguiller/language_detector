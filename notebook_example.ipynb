{
 "cells": [
  {
   "cell_type": "markdown",
   "metadata": {},
   "source": [
    "# Notebook unfinished\n",
    "## Ngram \n",
    "It's a class that allow you to create ngrams from text files and then to use them to predict languages for a sample text or a chunk of texts\n",
    "- make_new (by default : False) : If true, compute new ngram files in data/languages/.\n",
    "- ngramnum (by default : 500) : The script will look for the n-th most commun ngram in each languages"
   ]
  },
  {
   "cell_type": "code",
   "execution_count": 1,
   "metadata": {},
   "outputs": [],
   "source": [
    "from ngram import Ngram, typical"
   ]
  },
  {
   "cell_type": "code",
   "execution_count": 2,
   "metadata": {
    "scrolled": true
   },
   "outputs": [
    {
     "name": "stdout",
     "output_type": "stream",
     "text": [
      "Making new ngram in ./data/languages\n",
      "making 3-grams...\n",
      "  done 50 languages\n"
     ]
    }
   ],
   "source": [
    "# make_new \n",
    "ngram = Ngram(make_new=True , ngramnum = 500)"
   ]
  },
  {
   "cell_type": "code",
   "execution_count": 3,
   "metadata": {},
   "outputs": [
    {
     "name": "stdout",
     "output_type": "stream",
     "text": [
      "fr\n"
     ]
    }
   ],
   "source": [
    "sample = \"si on fait des phrases très longues, alors la performances devrait augmenter un peu plus\"\n",
    "print(ngram.sample_predict(sample))"
   ]
  },
  {
   "cell_type": "code",
   "execution_count": null,
   "metadata": {},
   "outputs": [],
   "source": []
  }
 ],
 "metadata": {
  "kernelspec": {
   "display_name": "Python 3",
   "language": "python",
   "name": "python3"
  },
  "language_info": {
   "codemirror_mode": {
    "name": "ipython",
    "version": 3
   },
   "file_extension": ".py",
   "mimetype": "text/x-python",
   "name": "python",
   "nbconvert_exporter": "python",
   "pygments_lexer": "ipython3",
   "version": "3.7.5rc1"
  }
 },
 "nbformat": 4,
 "nbformat_minor": 2
}
